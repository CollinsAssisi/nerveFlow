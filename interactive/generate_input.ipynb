{
 "cells": [
  {
   "cell_type": "code",
   "execution_count": null,
   "metadata": {},
   "outputs": [],
   "source": [
    "import numpy as np\n",
    "import matplotlib.pyplot as plt\n",
    "\n",
    "n_n = int(input(\"Number of Neurons (Default = 120) : \") or \"120\")\n",
    "time = float(input(\"Time in ms (Default = 1000) : \") or \"1000\")\n",
    "eps = float(input(\"Time Resolution (Default = 0.01) : \") or \"0.01\")\n",
    "\n",
    "current_input = np.zeros((n_n,int(time/eps)))\n",
    "t = np.arange(0,time,eps)\n",
    "\n",
    "y = np.where(t<600,(1-np.exp(-(t-100)/75)),0.9996*np.exp(-(t-600)/150))\n",
    "y = np.where(t<100,np.zeros(t.shape),y)\n",
    "\n",
    "fac = 10\n",
    "p_input = 0.33\n",
    "input_neurons = np.random.choice(np.array(range(n_n)),int(p_input*n_n),replace=False)\n",
    "\n",
    "current_input[input_neurons,:]= fac*y\n",
    "\n",
    "np.save(\"current\",current_input)"
   ]
  },
  {
   "cell_type": "code",
   "execution_count": 1,
   "metadata": {},
   "outputs": [],
   "source": [
    "import numpy as np\n",
    "import matplotlib.pyplot as plt\n",
    "\n",
    "def K_prop(V):\n",
    "    T = 22\n",
    "    phi = 3.0**((T-36.0)/10)\n",
    "    V_ = V-(-50)\n",
    "    \n",
    "    alpha_n = 0.02*(15.0 - V_)/(np.exp((15.0 - V_)/5.0) - 1.0)\n",
    "    beta_n = 0.5*np.exp((10.0 - V_)/40.0)\n",
    "    \n",
    "    t_n = 1.0/((alpha_n+beta_n)*phi)\n",
    "    n_inf = alpha_n/(alpha_n+beta_n)\n",
    "    \n",
    "    return n_inf, t_n\n",
    "\n",
    "\n",
    "def Na_prop(V):\n",
    "    T = 22\n",
    "    phi = 3.0**((T-36)/10)\n",
    "    V_ = V-(-50)\n",
    "    \n",
    "    alpha_m = 0.32*(13.0 - V_)/(np.exp((13.0 - V_)/4.0) - 1.0)\n",
    "    beta_m = 0.28*(V_ - 40.0)/(np.exp((V_ - 40.0)/5.0) - 1.0)\n",
    "    \n",
    "    alpha_h = 0.128*np.exp((17.0 - V_)/18.0)\n",
    "    beta_h = 4.0/(np.exp((40.0 - V_)/5.0) + 1.0)\n",
    "    \n",
    "    t_m = 1.0/((alpha_m+beta_m)*phi)\n",
    "    t_h = 1.0/((alpha_h+beta_h)*phi)\n",
    "    \n",
    "    m_inf = alpha_m/(alpha_m+beta_m)\n",
    "    h_inf = alpha_h/(alpha_h+beta_h)\n",
    "    \n",
    "    return m_inf, t_m, h_inf, t_h"
   ]
  },
  {
   "cell_type": "code",
   "execution_count": 4,
   "metadata": {},
   "outputs": [],
   "source": [
    "%matplotlib qt4"
   ]
  },
  {
   "cell_type": "code",
   "execution_count": 13,
   "metadata": {},
   "outputs": [
    {
     "data": {
      "text/plain": [
       "[<matplotlib.lines.Line2D at 0x7f54afd0ce10>]"
      ]
     },
     "execution_count": 13,
     "metadata": {},
     "output_type": "execute_result"
    }
   ],
   "source": []
  },
  {
   "cell_type": "code",
   "execution_count": 20,
   "metadata": {},
   "outputs": [
    {
     "data": {
      "text/plain": [
       "<matplotlib.legend.Legend at 0x7f54ae4ce828>"
      ]
     },
     "execution_count": 20,
     "metadata": {},
     "output_type": "execute_result"
    }
   ],
   "source": [
    "plt.subplot(1,2,1)\n",
    "plt.plot(np.arange(-100,100,0.01),K_prop(np.arange(-100,100,0.01))[1],'k--',label=r\"$\\tau_n$\")\n",
    "plt.plot(np.arange(-100,100,0.01),Na_prop(np.arange(-100,100,0.01))[1],'k:',label=r\"$\\tau_m$\")\n",
    "plt.plot(np.arange(-100,100,0.01),Na_prop(np.arange(-100,100,0.01))[3],'k-.',label=r\"$\\tau_h$\")\n",
    "plt.xlabel(r\"Membrane Voltage $u$ (in mV)\")\n",
    "plt.ylabel(r\"Time Constant $\\tau_x(u)$ (in ms)\")\n",
    "plt.legend()\n",
    "\n",
    "plt.subplot(1,2,2)\n",
    "plt.plot(np.arange(-100,100,0.01),K_prop(np.arange(-100,100,0.01))[0],'k--',label=r\"$n_0$\")\n",
    "plt.plot(np.arange(-100,100,0.01),Na_prop(np.arange(-100,100,0.01))[0],'k:',label=r\"$m_0$\")\n",
    "plt.plot(np.arange(-100,100,0.01),Na_prop(np.arange(-100,100,0.01))[2],'k-.',label=r\"$h_0$\")\n",
    "plt.xlabel(r\"Membrane Voltage $u$ (in mV)\")\n",
    "plt.ylabel(r\"Asymptotic Gating $x_0(u)$ \")\n",
    "plt.legend()"
   ]
  },
  {
   "cell_type": "code",
   "execution_count": null,
   "metadata": {},
   "outputs": [],
   "source": []
  }
 ],
 "metadata": {
  "kernelspec": {
   "display_name": "Python 3",
   "language": "python",
   "name": "python3"
  },
  "language_info": {
   "codemirror_mode": {
    "name": "ipython",
    "version": 3
   },
   "file_extension": ".py",
   "mimetype": "text/x-python",
   "name": "python",
   "nbconvert_exporter": "python",
   "pygments_lexer": "ipython3",
   "version": "3.6.6"
  }
 },
 "nbformat": 4,
 "nbformat_minor": 2
}

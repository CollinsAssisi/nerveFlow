{
 "cells": [
  {
   "cell_type": "code",
   "execution_count": 4,
   "metadata": {},
   "outputs": [
    {
     "name": "stdout",
     "output_type": "stream",
     "text": [
      "Number of Neurons (Default = 120) : \n",
      "Time in ms (Default = 1000) : \n",
      "Time Resolution (Default = 0.01) : \n"
     ]
    }
   ],
   "source": [
    "import numpy as np\n",
    "import matplotlib.pyplot as plt\n",
    "\n",
    "n_n = int(input(\"Number of Neurons (Default = 120) : \") or \"120\")\n",
    "time = float(input(\"Time in ms (Default = 1000) : \") or \"1000\")\n",
    "eps = float(input(\"Time Resolution (Default = 0.01) : \") or \"0.01\")\n",
    "\n",
    "current_input = np.zeros((n_n,int(time/eps)))\n",
    "t = np.arange(0,time,eps)\n",
    "\n",
    "y = np.where(t<600,(1-np.exp(-(t-100)/75)),0.9996*np.exp(-(t-600)/150))\n",
    "y = np.where(t<100,np.zeros(t.shape),y)\n",
    "\n",
    "fac = 10\n",
    "p_input = 0.33\n",
    "input_neurons = np.random.choice(np.array(range(n_n)),int(p_input*n_n),replace=False)\n",
    "\n",
    "current_input[input_neurons,:]= fac*y\n",
    "\n",
    "np.save(\"current\",current_input)"
   ]
  }
 ],
 "metadata": {
  "kernelspec": {
   "display_name": "Python 3",
   "language": "python",
   "name": "python3"
  },
  "language_info": {
   "codemirror_mode": {
    "name": "ipython",
    "version": 3
   },
   "file_extension": ".py",
   "mimetype": "text/x-python",
   "name": "python",
   "nbconvert_exporter": "python",
   "pygments_lexer": "ipython3",
   "version": "3.6.6"
  }
 },
 "nbformat": 4,
 "nbformat_minor": 2
}

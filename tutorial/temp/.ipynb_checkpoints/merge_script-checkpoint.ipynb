{
 "cells": [
  {
   "cell_type": "code",
   "execution_count": 1,
   "metadata": {},
   "outputs": [],
   "source": [
    "import numpy as np\n",
    "\n",
    "for n,i in enumerate([\"state.batch\"+str(n+1)+\".npy\" for n in range(5)]):\n",
    "    if n<1:\n",
    "        l=np.load(i)\n",
    "    else:\n",
    "        l = np.concatenate([l,np.load(i)[1:,:]])\n",
    "\n",
    "np.savetxt(\"state.vector\",l,delimiter=\",\",fmt=\"%.3f\")"
   ]
  },
  {
   "cell_type": "code",
   "execution_count": null,
   "metadata": {},
   "outputs": [],
   "source": []
  }
 ],
 "metadata": {
  "kernelspec": {
   "display_name": "Python 3",
   "language": "python",
   "name": "python3"
  },
  "language_info": {
   "codemirror_mode": {
    "name": "ipython",
    "version": 3
   },
   "file_extension": ".py",
   "mimetype": "text/x-python",
   "name": "python",
   "nbconvert_exporter": "python",
   "pygments_lexer": "ipython3",
   "version": "3.6.6"
  }
 },
 "nbformat": 4,
 "nbformat_minor": 2
}

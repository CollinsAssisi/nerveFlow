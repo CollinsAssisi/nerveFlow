{
 "cells": [
  {
   "cell_type": "markdown",
   "metadata": {},
   "source": [
    "## *Welcome to Parallelized Scalable Simulation of Biological Neural Networks - A Tutorial*\n",
    "\n",
    "### Abstract\n",
    "\n",
    "The dynamics of neurons and their networks have been studied extensively by modelling them as collections of differential equations and the power of these mathematical tools are well recognized. Many tools and packages exist that allow the simulation of systems of neurons using these differential equations. But most of these tools are very specialized and the nature of the implementation of these tools makes them less flexible and limit their abilities. TensorFlow is a Python-based interface originally designed for machine learning algorithms but it presents a scalable environment for a variety of computation including solving differential equations using iterative algorithms from numerical analysis such as Runge-Kutta methods. There are two major benefits of such an implementation: high readability and scalability across a variety of computational devices. We explore the process of implementing a scalable simulation of a system of neurons based on Hodgkin-Huxley-like neuron equations using TensorFlow. We also discuss the limitations of such an implementation and approaches to deal with them. \n",
    "\n",
    "### Motivation\n",
    "\n",
    "The processing of information by the nervous system spans across space and time and mathematical modelling of these dynamics have found to be a very important tool. These models have been used extensively to study the dynamics and mechanisms of information processing at both the individual neuron level and the system of neurons level. These models generally utilize systems of simultaneous ordinary differential equations (ODEs) which can be solved as initial value problems using well studied methods from numerical analysis such as Runge Kutta methods. From detailed study of the mechanism of action of the neurons, ion channels, neurotransmitters or neuromodulators and their dynamics in different models, equations have been found that describe the behavior of neurons and synapse. By forming interconnected systems of these individual groups of differential equations, the overall dynamics and behavior of networks can be studied through deterministic or stochastic simulations which can be easily perturbed unlike the case for in vivo experiments.\n",
    "\n",
    "A major issue with such simulations is the computational complexity. As the number of neurons increase, the number of possible synaptic connections increases quadratically. That is, for a system of $n$ neurons there can be at most $n^2$ different synapses of one type, each with its own set of equations. Thus, simulations can take very long times for large values of $n$. A solution to this problem is to implement some form of parallelization in the ODE solver and the system of equations itself. One of the simplest methods of parallelizable computation is in the form of matrix algebra which can easily be accelerated using libraries such as BLAS. But BLAS can only be used for CPU based computational engines.\n",
    "\n",
    "This is where TensorFlow (a open-source google product) gives us an massive edge. TensorFlow allows us a much greater scalability and is way more flexible in terms of ease of implementation for specialized hardware. With minimal changes in the implementation, the code can be executed on a wide variety of heterogeneous and distributed systems ranging from mobile devices to clusters and specialised computing devices such as GPU and TPU cards. The modern advances in GPU/TPU design allows us to access even higher degrees of parallelization. It is now even possible to have hundred of TeraFLOPS of computing power in a single small computing device. With TensorFlow we can access these resources without even requiring an in-depth understanding of its architecture and technical knowledge of specific low level packages like CUDA.\n"
   ]
  },
  {
   "cell_type": "code",
   "execution_count": null,
   "metadata": {
    "collapsed": true
   },
   "outputs": [],
   "source": []
  }
 ],
 "metadata": {
  "kernelspec": {
   "display_name": "Python 3",
   "language": "python",
   "name": "python3"
  },
  "language_info": {
   "codemirror_mode": {
    "name": "ipython",
    "version": 3
   },
   "file_extension": ".py",
   "mimetype": "text/x-python",
   "name": "python",
   "nbconvert_exporter": "python",
   "pygments_lexer": "ipython3",
   "version": "3.5.3"
  }
 },
 "nbformat": 4,
 "nbformat_minor": 2
}

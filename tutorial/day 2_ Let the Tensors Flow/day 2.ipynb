{
 "cells": [
  {
   "cell_type": "markdown",
   "metadata": {},
   "source": [
    "## Day 2: Let the Tensors Flow!\n",
    "\n",
    "Welcome to Day 2! Today, we start with our discussion with an introduction to TensorFlow followed by implementation of Numerical Integration techniques in TensorFlow."
   ]
  },
  {
   "cell_type": "markdown",
   "metadata": {},
   "source": [
    "### An Introduction to TensorFlow\n",
    "\n",
    "TensorFlow is an open-source software library. TensorFlow was originally developed by researchers and engineers working on the Google Brain Team within Google’s Machine Intelligence research organization for the purposes of conducting machine learning and deep neural networks research, but the system is general enough to be applicable in a wide variety of other domains as well!\n",
    "\n",
    "Essentially, TensorFlow library for high performance numerical computation. Its flexible architecture allows easy deployment of computation across a variety of platforms (CPUs, GPUs, TPUs), and from desktops to clusters of servers. It is a python package that (much like BLAS on Intel MKL) speeds up Linear Algebra Computation. What is special about this system is that it is capable of utilizing GPUs and TPUs for computation and its written in a simpler language like python.\n",
    "\n",
    "#### Why GPU/TPU vs CPU?\n",
    "\n",
    "<img src=\"GPUvCPU.png\" alt=\"GPUvCPU.png\" width=\"600\"/>\n",
    "\n",
    "The answer lies in the architecture: \n",
    "**CPU = Faster per Core Processing, Slow but Large Memory Buffer, Few Cores**\n",
    "**GPU/TPU = Slower Processing, Faster but Smaller Memory Buffer, Many Cores**\n",
    "\n",
    "Thus GPUs and TPUs are optimized for large number of simple calculations done parallely. The extent of this  parallelization makes it suitable for vector/tensor manipulation.\n",
    "\n",
    "#### How TensorFlow works?\n",
    "\n",
    "TensorFlow essentially performs numerical computations on multidimensional arrays (called tensors) using \"data flow graphs\" or \"computation graphs\". In these graphs, nodes represent variables/placeholders/constants or mathematical operations such as matrix multiplication or elementwise addition and the edges in the graph represent the flow of tensors between operations (nodes). Tensor is the central unit of data in TensorFlow giving the package its name. For example, look at the following computation graph:\n",
    "\n",
    "\n",
    "Here, \"matmul\" is a node which represents the matrix multiplication operation. a and b are input matrices (2-D tensors) and c is the resultant matrix.\n",
    "\n",
    "#### Implementing a computational graph in TensorFlow"
   ]
  },
  {
   "cell_type": "code",
   "execution_count": 46,
   "metadata": {},
   "outputs": [
    {
     "name": "stdout",
     "output_type": "stream",
     "text": [
      "[[1. 2. 3.]\n",
      " [2. 4. 6.]\n",
      " [3. 6. 9.]]\n"
     ]
    }
   ],
   "source": [
    "# Firstly, import TensorFlow, Numpy, and Matplotlib\n",
    "import numpy as np\n",
    "import tensorflow as tf\n",
    "import matplotlib.pyplot as plt\n",
    "\n",
    "# Creating nodes in the computation graph \n",
    "a = tf.constant([[1.],[2.],[3.]], dtype=tf.float64) # a 3x1 column matrix \n",
    "b = tf.constant([[1.,2.,3.]], dtype=tf.float64) # a 1x3 row matrix \n",
    "c = tf.matmul(a, b) \n",
    "\n",
    "# To run the graph, we need to create a session.\n",
    "# Creating the session initializes the computational device.\n",
    "\n",
    "sess = tf.Session() # start a session\n",
    "output = sess.run(c) # compute the value of c\n",
    "sess.close() # end the session\n",
    "\n",
    "print(output)\n",
    "\n",
    "# TO automatically close the session after computation, Use:\n",
    "# with tf.Session() as sess:\n",
    "#    output = sess.run(c) "
   ]
  },
  {
   "cell_type": "markdown",
   "metadata": {},
   "source": [
    "#### Iterating recursively over in TensorFlow\n",
    "\n",
    "Say, one wants to recursively apply a function on an initial value but the function takes in additional input at every recursive call, for example, to find a cumulative sum over a list. Every step is addition of the new element from the list onto the last addition. The TensorFlow function tf.scan allows us to easily implement such an iterator."
   ]
  },
  {
   "cell_type": "code",
   "execution_count": 47,
   "metadata": {},
   "outputs": [
    {
     "name": "stdout",
     "output_type": "stream",
     "text": [
      "[ 1  3  6 10 15 21]\n",
      "[ 6  8 11 15 20 26]\n"
     ]
    }
   ],
   "source": [
    "# define the recursive function that takes in two values the\n",
    "# accumulated value and the additional input from a list.\n",
    "def recursive_addition(accumulator,new_element):\n",
    "    return accumulator+new_element\n",
    "\n",
    "# define the list over which we iterate\n",
    "elems = np.array([1, 2, 3, 4, 5, 6])\n",
    "\n",
    "# tf.scan takes in three inputs: the recursive function, the \n",
    "# list to iterate over and the initial value. If an initial \n",
    "# value is not provided, its taken as the first element of elems.\n",
    "\n",
    "# accumulate with no initializer\n",
    "cum_sum_a = tf.scan(recursive_addition, elems) \n",
    "# accumulate with initializer as the number 5\n",
    "cum_sum_b = tf.scan(recursive_addition, elems, tf.constant(5,dtype=tf.int64))\n",
    "\n",
    "with tf.Session() as sess:\n",
    "    output_a = sess.run(cum_sum_a)\n",
    "    output_b = sess.run(cum_sum_b)\n",
    "\n",
    "print(output_a)\n",
    "print(output_b)"
   ]
  },
  {
   "cell_type": "markdown",
   "metadata": {},
   "source": [
    "As an **Exercise** try using tf.scan to compute the fibonacci sequence.\n",
    "\n",
    "One may have noticed that our integration is essentially an recursive process over the time series. Both the updation rules can just be written as a recursive function $F$ such that $X_{i+1}=F(X_i,t_i,\\epsilon_i)$. We would want our output to be the array $[X_0,F(X_0,t_0,\\epsilon_0),F(F(X_0,t_0,\\epsilon_0),t_1,\\epsilon_1)...]$. To get this, we just need to recursively iterate over the array of time and $\\epsilon$ and apply a updation function $F$ recursively on the initial condition, which exactly what tf.scan enables us to do."
   ]
  },
  {
   "cell_type": "markdown",
   "metadata": {},
   "source": [
    "#### Euler Integration Function in TensorFlow\n",
    "\n",
    "Transitioning to TensorFlow is not a trivial process, but once you get a gist of how it works, it is as simple as using numpy. Because of the way the TensorFlow architecture is designed, there are a few limitations to how one can do simpler operations/manipulation. But it is easy to overcome using the correct function and code patterns which can be easily learnt."
   ]
  },
  {
   "cell_type": "code",
   "execution_count": 48,
   "metadata": {},
   "outputs": [],
   "source": [
    "def tf_check_type(t, y0): # Ensure Input is Correct\n",
    "    if not (y0.dtype.is_floating and t.dtype.is_floating): \n",
    "        # The datatype of any tensor t is accessed by t.dtype\n",
    "        raise TypeError('Error in Datatype')\n",
    "\n",
    "class _Tf_Integrator():\n",
    "    \n",
    "    def integrate(self, func, y0, t): \n",
    "        \n",
    "        time_delta_grid = t[1:] - t[:-1]  \n",
    "        \n",
    "        def scan_func(y, t_dt): \n",
    "            t, dt = t_dt\n",
    "            dy = dt*func(y,t)\n",
    "            return y + dy\n",
    "        \n",
    "        # iterating over (a,b) where a and b are lists of same size\n",
    "        # results in the ith accumulative step in tf.scan receiving\n",
    "        # the ith elements of a and b zipped together\n",
    "        \n",
    "        y = tf.scan(scan_func, (t[:-1], time_delta_grid),y0) \n",
    "        return tf.concat([[y0], y], axis=0)\n",
    "\n",
    "def tf_odeint_euler(func, y0, t):\n",
    "    \n",
    "    # Convert input to TensorFlow Objects\n",
    "    \n",
    "    t = tf.convert_to_tensor(t, preferred_dtype=tf.float64, name='t')\n",
    "    y0 = tf.convert_to_tensor(y0, name='y0')\n",
    "    tf_check_type(y0,t)\n",
    "    return _Tf_Integrator().integrate(func,y0,t)"
   ]
  },
  {
   "cell_type": "markdown",
   "metadata": {},
   "source": [
    "#### Running the TensorFlow Euler Integrator"
   ]
  },
  {
   "cell_type": "code",
   "execution_count": 55,
   "metadata": {},
   "outputs": [
    {
     "data": {
      "image/png": "[encoded data removed]",
      "text/plain": [
       "<Figure size 432x288 with 1 Axes>"
      ]
     },
     "metadata": {
      "needs_background": "light"
     },
     "output_type": "display_data"
    }
   ],
   "source": [
    "# Define a function using Tensorflow math operations. This creates a computational graph.\n",
    "\n",
    "def f(X,t):\n",
    "    # extracting a single value eg. X[0] returns a single value but\n",
    "    # we require a tensor, so we extract a range with one element.\n",
    "    x = X[0:1] \n",
    "    y = X[1:2]\n",
    "    out = tf.concat([x-y,y-x],0)\n",
    "    return out\n",
    "\n",
    "y0 = tf.constant([1,0], dtype=tf.float64)\n",
    "\n",
    "epsilon = 0.01\n",
    "t = np.arange(0,2,epsilon)\n",
    "\n",
    "# Define the final value (output of scan) that we wish to compute as a variable\n",
    "\n",
    "state = tf_odeint_euler(f,y0,t)\n",
    "\n",
    "# Start a TF session and evaluate state\n",
    "with tf.Session() as sess:\n",
    "    state = sess.run(state)\n",
    "\n",
    "plt.plot(t[::5],state.T[0,::5],\".\",label=\"Eulers Solution for x\")\n",
    "plt.plot(t[::5],state.T[1,::5],\".\",label=\"Eulers Solution for y\")\n",
    "plt.xlabel(\"t\")\n",
    "plt.ylabel(\"x\")\n",
    "plt.legend()\n",
    "plt.show()"
   ]
  },
  {
   "cell_type": "markdown",
   "metadata": {},
   "source": [
    "#### RK4 Integration Function in TensorFlow\n",
    "\n",
    "Now, we implement the exact same RK4 integrator in TensorFlow."
   ]
  },
  {
   "cell_type": "code",
   "execution_count": 53,
   "metadata": {},
   "outputs": [],
   "source": [
    "import tensorflow as tf\n",
    "\n",
    "def tf_check_type(t, y0): # Ensure Input is Correct\n",
    "    if not (y0.dtype.is_floating and t.dtype.is_floating):\n",
    "        raise TypeError('Error in Datatype')\n",
    "\n",
    "class _Tf_Integrator():\n",
    "    \n",
    "    def integrate(self, func, y0, t): \n",
    "        time_delta_grid = t[1:] - t[:-1]\n",
    "        \n",
    "        def scan_func(y, t_dt): \n",
    "            t, dt = t_dt\n",
    "            dy = self._step_func(func,t,dt,y) # Make code more modular.\n",
    "            return y + dy\n",
    "\n",
    "        y = tf.scan(scan_func, (t[:-1], time_delta_grid),y0)\n",
    "        return tf.concat([[y0], y], axis=0)\n",
    "    \n",
    "    def _step_func(self, func, t, dt, y):\n",
    "        k1 = func(y, t)\n",
    "        half_step = t + dt / 2\n",
    "        dt_cast = tf.cast(dt, y.dtype) # Failsafe\n",
    "\n",
    "        k2 = func(y + dt_cast * k1 / 2, half_step)\n",
    "        k3 = func(y + dt_cast * k2 / 2, half_step)\n",
    "        k4 = func(y + dt_cast * k3, t + dt)\n",
    "        return tf.add_n([k1, 2 * k2, 2 * k3, k4]) * (dt_cast / 6)\n",
    "    \n",
    "\n",
    "def tf_odeint_rk4(func, y0, t):\n",
    "    t = tf.convert_to_tensor(t, preferred_dtype=tf.float64, name='t')\n",
    "    y0 = tf.convert_to_tensor(y0, name='y0')\n",
    "    tf_check_type(y0,t)\n",
    "    return _Tf_Integrator().integrate(func,y0,t)"
   ]
  },
  {
   "cell_type": "code",
   "execution_count": 56,
   "metadata": {},
   "outputs": [
    {
     "data": {
      "image/png": "[encoded data removed]",
      "text/plain": [
       "<Figure size 432x288 with 1 Axes>"
      ]
     },
     "metadata": {
      "needs_background": "light"
     },
     "output_type": "display_data"
    }
   ],
   "source": [
    "# Define a function using Tensorflow math operations. This creates a computational graph.\n",
    "\n",
    "def f(X,t):\n",
    "    # extracting a single value eg. X[0] returns a single value but\n",
    "    # we require a tensor, so we extract a range with one element.\n",
    "    x = X[0:1] \n",
    "    y = X[1:2]\n",
    "    out = tf.concat([x-y,y-x],0)\n",
    "    return out\n",
    "\n",
    "y0 = tf.constant([1,0], dtype=tf.float64)\n",
    "\n",
    "epsilon = 0.01\n",
    "t = np.arange(0,2,epsilon)\n",
    "\n",
    "# Define the final value (output of scan) that we wish to compute as a variable\n",
    "\n",
    "state = tf_odeint_rk4(f,y0,t)\n",
    "\n",
    "# Start a TF session and evaluate state\n",
    "with tf.Session() as sess:\n",
    "    state = sess.run(state)\n",
    "\n",
    "plt.plot(t[::5],state.T[0,::5],\".\",label=\"RK4 Solution for x\")\n",
    "plt.plot(t[::5],state.T[1,::5],\".\",label=\"RK4 Solution for y\")\n",
    "plt.xlabel(\"t\")\n",
    "plt.ylabel(\"x\")\n",
    "plt.legend()\n",
    "plt.show()"
   ]
  },
  {
   "cell_type": "code",
   "execution_count": null,
   "metadata": {},
   "outputs": [],
   "source": []
  }
 ],
 "metadata": {
  "kernelspec": {
   "display_name": "Python 3",
   "language": "python",
   "name": "python3"
  },
  "language_info": {
   "codemirror_mode": {
    "name": "ipython",
    "version": 3
   },
   "file_extension": ".py",
   "mimetype": "text/x-python",
   "name": "python",
   "nbconvert_exporter": "python",
   "pygments_lexer": "ipython3",
   "version": "3.6.6"
  }
 },
 "nbformat": 4,
 "nbformat_minor": 2
}

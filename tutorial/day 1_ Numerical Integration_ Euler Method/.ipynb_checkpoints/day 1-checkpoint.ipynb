{
 "cells": [
  {
   "cell_type": "markdown",
   "metadata": {},
   "source": [
    "## Day 1: Of Numerical Integration, Python and Tensorflow\n",
    "\n",
    "Welcome to Day 1! Today, we start with our discussion of what Numerical Integration is."
   ]
  },
  {
   "cell_type": "markdown",
   "metadata": {},
   "source": [
    "### What is Numerical Integration?\n",
    "\n",
    "From the point of view of a theoretician, the ideal form of the solution to a differential equation given the initial conditions, i.e. an initial value problem (IVP), would be a formula for the solution function. But sometimes obtaining a formulaic solution is not always easy, and in many cases is absolutely impossible. So, what do we do when faced with a differential equation that we cannot solve? If you are only looking for long term behavior of a solution you can always sketch a direction field. This can be done without too much difficulty for some fairly complex differential equations that we can’t solve to get exact solutions. But, what if we need to determine how a specific solution behaves, including some values that the solution will take? In that case, we have to rely on numerical methods for solving the IVP such as euler's method or the Runge-Kutta Methods. \n",
    "\n",
    "#### Euler's Method\n",
    "\n",
    "We use Euler's Method to generate a numerical solution to an initial value problem of the form:\n",
    "\n",
    "$$\\frac{dx}{dt} = f(x, t)$$\n",
    "$$x(t_o) = x_o$$\n",
    "\n",
    "Firstly, we decide the interval over which we desire to find the solution, starting at the initial condition. We break this interval into small subdivisions of a fixed length $\\epsilon$. Then, using the initial condition as our starting point, we generate the rest of the solution by using the iterative formulas:\n",
    "\n",
    "$$t_{n+1} = t_n + \\epsilon$$\n",
    "$$x_{n+1} = x_n + \\epsilon f(x_n, t_n)$$\n",
    "\n",
    "to find the coordinates of the points in our numerical solution. We end this process once we have reached the end of the desired interval.\n",
    "\n",
    "To see a graphical and mathematical derivation of the same visit: http://calculuslab.deltacollege.edu/ODE/7-C-1/7-C-1-h-a.html\n",
    "\n",
    "#### Euler and Python\n",
    "Let $\\frac{dx}{dt}=f(x,t)$, we want to find $x(t)$ over $t\\in[0,2)$, given that $x(0)=1$ and $f(x,t) = 5x$. The exact solution of this equation would be $x(t) = e^{5t}$.\n"
   ]
  },
  {
   "cell_type": "code",
   "execution_count": 1,
   "metadata": {},
   "outputs": [
    {
     "data": {
      "image/png": "[encoded data removed]",
      "text/plain": [
       "<Figure size 432x288 with 1 Axes>"
      ]
     },
     "metadata": {
      "needs_background": "light"
     },
     "output_type": "display_data"
    }
   ],
   "source": [
    "import numpy as np\n",
    "import matplotlib.pyplot as plt\n",
    "%matplotlib inline\n",
    "\n",
    "def f(x,t): # define the function f(x,t)\n",
    "    return 5*x\n",
    "\n",
    "epsilon = 0.01 # define timestep\n",
    "\n",
    "t = np.arange(0,2,epsilon) # define an array for t\n",
    "x = np.zeros(t.shape) # define an array for x\n",
    "\n",
    "x[0]= 1 # set initial condition\n",
    "\n",
    "for i in range(1,t.shape[0]):\n",
    "    x[i] = epsilon*f(x[i-1],t[i-1])+x[i-1] # Euler Integration Step\n",
    "    \n",
    "plt.plot(t,x,label=\"Eulers Solution\")\n",
    "plt.plot(t,np.exp(5*t),label=\"Exact Solution\")\n",
    "plt.xlabel(\"t\")\n",
    "plt.ylabel(\"x\")\n",
    "plt.legend()\n",
    "plt.show()"
   ]
  },
  {
   "cell_type": "markdown",
   "metadata": {},
   "source": [
    "#### Euler and Vectors\n",
    "\n",
    "Euler's Method also applies to vectors and can solve simultaneous differential equations.\n",
    "\n",
    "The Initial Value problem now becomes:\n",
    "\n",
    "$$\\frac{d\\vec{x}}{dt} = \\vec{f}(\\vec{x}, t)$$\n",
    "$$\\vec{x}(t_o) = \\vec{x_o}$$\n",
    "\n",
    "where $\\vec{x}=[x_1,x_2...]$ and $\\vec{f}(\\vec{x}, t)=[f_1(\\vec{x}, t),f_2(\\vec{x}, t)...]$.\n",
    "\n",
    "The Euler's Method becomes:\n",
    "\n",
    "$$t_{n+1} = t_n + \\epsilon$$\n",
    "$$\\vec{x_{n+1}} = \\vec{x_n} + \\epsilon \\vec{f}(\\vec{x_n}, t_n)$$\n",
    "\n",
    "Let $\\frac{d\\vec{x}}{dt}=f(\\vec{x},t)$, we want to find $\\vec{x}(t)$ over $t\\in[0,2)$, given that $\\vec{x}=[x,y]$, $\\vec{x}(0)=[1,0]$ and $f(\\vec{x},t) = [x-y,y-x]$."
   ]
  },
  {
   "cell_type": "code",
   "execution_count": 2,
   "metadata": {},
   "outputs": [
    {
     "data": {
      "image/png": "[encoded data removed]",
      "text/plain": [
       "<Figure size 432x288 with 1 Axes>"
      ]
     },
     "metadata": {
      "needs_background": "light"
     },
     "output_type": "display_data"
    }
   ],
   "source": [
    "def f(x,t): # define the function f(x,t)\n",
    "    x_,y_ = x\n",
    "    return np.array([x_-y_,y_-x_])\n",
    "\n",
    "epsilon = 0.01 # define timestep\n",
    "\n",
    "t = np.arange(0,2,epsilon) # define an array for t\n",
    "x = np.zeros((2,t.shape[0])) # define an array for x\n",
    "\n",
    "x[:,0]= [1,0] # set initial condition\n",
    "\n",
    "for i in range(1,t.shape[0]):\n",
    "    x[:,i] = epsilon*f(x[:,i-1],t[i-1])+x[:,i-1] # Euler Integration Step\n",
    "    \n",
    "plt.plot(t,x[0,:],label=\"Eulers Solution for x\")\n",
    "plt.plot(t,x[1,:],label=\"Eulers Solution for y\")\n",
    "plt.xlabel(\"t\")\n",
    "plt.ylabel(\"x\")\n",
    "plt.legend()\n",
    "plt.show()"
   ]
  },
  {
   "cell_type": "markdown",
   "metadata": {},
   "source": [
    "#### A Generalized function for Euler Integration\n",
    "\n",
    "Now, we create a generalized function that takes in 3 inputs ie. the function $f(\\vec{y},t)$ when $\\frac{d\\vec{y}}{dt}=f(\\vec{y},t)$, the time array, and initial vector $\\vec{y_0}$.\n",
    "\n",
    "##### Algorithm\n",
    "- Get the required inputs: function $\\vec{f}(\\vec{x},t)$, initial condition vector $\\vec{y_0}$ and time series $t$.\n",
    "- Check if t is monotonically increasing. Entering a time series $t$ allows for greater control over $\\epsilon$ as it can now vary for each timestep. The only difference in the Euler's Method is now : $\\epsilon\\rightarrow\\epsilon(t_n)$.\n",
    "- Check if the input is of the correct datatype ie. floating point decimal.\n",
    "- Create a zero matrix to hold the output.\n",
    "- For each timestep, perform the euler method updation with variable $\\epsilon$ and store it in the output matrix.\n",
    "- Return the output timeseries matrix."
   ]
  },
  {
   "cell_type": "code",
   "execution_count": 3,
   "metadata": {
    "collapsed": true
   },
   "outputs": [],
   "source": [
    "def check_increasing(t): # Ensure Time is Monotonically Increasing\n",
    "    return np.all(t[1:]>t[:-1])\n",
    "\n",
    "def check_type(y,t): # Ensure Input is Correct\n",
    "    return y.dtype == np.floating and t.dtype == np.floating\n",
    "\n",
    "class _Integrator():\n",
    "    \n",
    "    def integrate(self,func,y0,t):\n",
    "        time_delta_grid = t[1:] - t[:-1]\n",
    "        \n",
    "        y = np.zeros((y0.shape[0],t.shape[0]))\n",
    "        y[:,0] = y0\n",
    "        \n",
    "        for i in range(time_delta_grid.shape[0]):\n",
    "            y[:,i+1]= time_delta_grid[i]*func(y[:,i],t[i])+y[:,i]\n",
    "        return y\n",
    "\n",
    "\n",
    "def odeint_euler(func,y0,t):\n",
    "    y0 = np.array(y0)\n",
    "    t = np.array(t)\n",
    "    if check_increasing(t) and check_type(y0,t):\n",
    "        return _Integrator().integrate(func,y0,t)\n",
    "    else:\n",
    "        print(\"error encountered\")"
   ]
  },
  {
   "cell_type": "code",
   "execution_count": 4,
   "metadata": {
    "scrolled": false
   },
   "outputs": [
    {
     "data": {
      "image/png": "[encoded data removed]",
      "text/plain": [
       "<Figure size 432x288 with 1 Axes>"
      ]
     },
     "metadata": {
      "needs_background": "light"
     },
     "output_type": "display_data"
    }
   ],
   "source": [
    "solution = odeint_euler(f,[1.,0.],t)\n",
    "\n",
    "plt.plot(t,solution[0,:],label=\"Eulers Solution for x\")\n",
    "plt.plot(t,solution[1,:],label=\"Eulers Solution for y\")\n",
    "plt.xlabel(\"t\")\n",
    "plt.ylabel(\"x\")\n",
    "plt.legend()\n",
    "plt.show()"
   ]
  },
  {
   "cell_type": "markdown",
   "metadata": {},
   "source": [
    "### An Introduction to TensorFlow\n",
    "\n",
    "TensorFlow is an open-source software library. TensorFlow was originally developed by researchers and engineers working on the Google Brain Team within Google’s Machine Intelligence research organization for the purposes of conducting machine learning and deep neural networks research, but the system is general enough to be applicable in a wide variety of other domains as well!\n",
    "\n",
    "Essentially, TensorFlow library for high performance numerical computation. Its flexible architecture allows easy deployment of computation across a variety of platforms (CPUs, GPUs, TPUs), and from desktops to clusters of servers. It is a python package that (much like BLAS on Intel MKL) speeds up Linear Algebra Computation. What is special about this system is that it is capable of utilizing GPUs and TPUs for computation and its written in a simpler language like python.\n",
    "\n",
    "#### Why GPU/TPU vs CPU?\n",
    "\n",
    "<img src=\"GPUvCPU.png\" alt=\"GPUvCPU.png\" width=\"600\"/>\n",
    "\n",
    "The answer lies in the architecture: \n",
    "**CPU = Faster per Core Processing, Slow but Large Memory Buffer, Few Cores**\n",
    "**GPU/TPU = Slower Processing, Faster but Smaller Memory Buffer, Many Cores**\n",
    "\n",
    "Thus GPUs and TPUs are optimized for large number of simple calculations done parallely. The extent of this  parallelization makes it suitable for vector/tensor manipulation.\n",
    "\n",
    "\n",
    "For an Introduction to Computational Graphs in Tensorflow, Visit:\n",
    "https://www.geeksforgeeks.org/introduction-to-tensorflow/"
   ]
  },
  {
   "cell_type": "markdown",
   "metadata": {},
   "source": [
    "#### Euler Integration Function in TensorFlow\n",
    "\n",
    "Transitioning to TensorFlow is not a trivial process, but once you get a gist of how it works, it is as simple as using numpy. Because of the way the TensorFlow architecture is designed, there are a few limitations to how one can do simpler operations/manipulation. But it is easy to overcome using the correct function and code patterns which can be easily learnt."
   ]
  },
  {
   "cell_type": "code",
   "execution_count": 6,
   "metadata": {
    "collapsed": true
   },
   "outputs": [],
   "source": [
    "# Firstly, import TensorFlow\n",
    "\n",
    "import tensorflow as tf\n",
    "\n",
    "# TensorFlow Boolean variables are not easy to directly use for flow control.\n",
    "# Thus instead of using an if statement we raise an error / use a control dependency\n",
    "\n",
    "def tf_check_type(t, y0): # Ensure Input is Correct\n",
    "    \n",
    "    if not (y0.dtype.is_floating and t.dtype.is_floating): \n",
    "        # The datatype of any tensor t is accessed by t.dtype\n",
    "        raise TypeError('Error in Datatype')\n",
    "\n",
    "def tf_check_increasing(t): # Ensure Time is Monotonically Increasing\n",
    "    \n",
    "    assert_op = tf.Assert(tf.reduce_all(t[1:]>t[:-1]),[\"Time must be monotonic\"])\n",
    "    # Asserting a control dependency is essentially forcing a requirement\n",
    "    return tf.control_dependencies([assert_op])\n",
    "\n",
    "class _Tf_Integrator():\n",
    "    \n",
    "    def integrate(self, func, y0, t): \n",
    "        \n",
    "        time_delta_grid = t[1:] - t[:-1]  \n",
    "        \n",
    "        # tf.scan(fn,el,init) is an iterator over elems, it applies fn recursively on tensor init\n",
    "        # fn is function takes in two inputs: accumulated fn and the value of current iteration on el\n",
    "        # it must return an output structurally identical to the input to fn to allow recursion\n",
    "        # the values of el (here time and delta time) act as additional information over recursion\n",
    "        \n",
    "        scan_func = self._make_scan_func(func)\n",
    "        \n",
    "        # iterate over (t,dt) till the 2nd last iteration\n",
    "        \n",
    "        y = tf.scan(scan_func, (t[:-1], time_delta_grid),y0) \n",
    "        return tf.concat([[y0], y], axis=0)\n",
    "    \n",
    "    def _make_scan_func(self, func): # create and return a stepper function fn\n",
    "        def scan_func(y, t_dt): \n",
    "            t, dt = t_dt\n",
    "            dy = dt*func(y,t)\n",
    "            dy = tf.cast(dy, dtype=y.dtype) # Cast to correct type as failsafe\n",
    "            return y + dy\n",
    "        return scan_func\n",
    "    \n",
    "\n",
    "def tf_odeint_euler(func, y0, t):\n",
    "    \n",
    "    # Convert input to TensorFlow Objects\n",
    "    \n",
    "    t = tf.convert_to_tensor(t, preferred_dtype=tf.float64, name='t')\n",
    "    y0 = tf.convert_to_tensor(y0, name='y0')\n",
    "    tf_check_type(y0,t)\n",
    "    with tf_check_increasing(t):\n",
    "        return _Tf_Integrator().integrate(func,y0,t)"
   ]
  },
  {
   "cell_type": "code",
   "execution_count": 9,
   "metadata": {
    "collapsed": true
   },
   "outputs": [],
   "source": [
    "# Define a function using Tensorflow math operations. This creates a computational graph.\n",
    "\n",
    "def f(X,t):\n",
    "    x = X[:-1]\n",
    "    y = X[1:]\n",
    "    out = tf.concat([x-y,y-x],0)\n",
    "    return out\n",
    "\n",
    "y0 = tf.constant([1,0], dtype=tf.float64)\n",
    "\n",
    "epsilon = 0.01\n",
    "t = np.arange(0,2,epsilon)\n",
    "\n",
    "# Define the final value (output of scan) that we wish to compute as a variable\n",
    "\n",
    "state = tf_odeint_euler(f,y0,t)\n",
    "\n",
    "# Start a TF session and evaluate state\n",
    "with tf.Session() as sess:\n",
    "    state = sess.run(state)"
   ]
  },
  {
   "cell_type": "code",
   "execution_count": 10,
   "metadata": {},
   "outputs": [
    {
     "data": {
      "image/png": "[encoded data removed]",
      "text/plain": [
       "<Figure size 432x288 with 1 Axes>"
      ]
     },
     "metadata": {
      "needs_background": "light"
     },
     "output_type": "display_data"
    }
   ],
   "source": [
    "plt.plot(t,state.T[0,:],label=\"Eulers Solution for x\")\n",
    "plt.plot(t,state.T[1,:],label=\"Eulers Solution for y\")\n",
    "plt.xlabel(\"t\")\n",
    "plt.ylabel(\"x\")\n",
    "plt.legend()\n",
    "plt.show()"
   ]
  }
 ],
 "metadata": {
  "kernelspec": {
   "display_name": "Python 3",
   "language": "python",
   "name": "python3"
  },
  "language_info": {
   "codemirror_mode": {
    "name": "ipython",
    "version": 3
   },
   "file_extension": ".py",
   "mimetype": "text/x-python",
   "name": "python",
   "nbconvert_exporter": "python",
   "pygments_lexer": "ipython3",
   "version": "3.6.6"
  }
 },
 "nbformat": 4,
 "nbformat_minor": 2
}
